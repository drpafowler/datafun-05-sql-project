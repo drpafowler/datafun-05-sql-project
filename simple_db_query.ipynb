{
 "cells": [
  {
   "cell_type": "code",
   "execution_count": 1,
   "metadata": {},
   "outputs": [
    {
     "name": "stdout",
     "output_type": "stream",
     "text": [
      "city\n",
      "countrylanguage\n",
      "country\n"
     ]
    }
   ],
   "source": [
    "import sqlite3\n",
    "import pandas as pd\n",
    "\n",
    "# Connect to the SQLite database\n",
    "conn = sqlite3.connect('project.db')\n",
    "\n",
    "# Write the SQL query to list all tables\n",
    "query = \"SELECT name FROM sqlite_master WHERE type='table';\"\n",
    "\n",
    "# Execute the query and fetch the results\n",
    "cursor = conn.cursor()\n",
    "cursor.execute(query)\n",
    "tables = cursor.fetchall()\n",
    "\n",
    "# Print the list of tables\n",
    "for table in tables:\n",
    "    print(table[0])\n",
    "\n",
    "# Close the connection\n",
    "conn.close()"
   ]
  },
  {
   "cell_type": "code",
   "execution_count": 5,
   "metadata": {},
   "outputs": [
    {
     "name": "stdout",
     "output_type": "stream",
     "text": [
      "                                  name countrycode              district  \\\n",
      "0  Kabul                                       AFG  Kabol                  \n",
      "1  Qandahar                                    AFG  Qandahar               \n",
      "2  Herat                                       AFG  Herat                  \n",
      "3  Mazar-e-Sharif                              AFG  Balkh                  \n",
      "4  Amsterdam                                   NLD  Noord-Holland          \n",
      "\n",
      "   population  \n",
      "0     1780000  \n",
      "1      237500  \n",
      "2      186800  \n",
      "3      127800  \n",
      "4      731200  \n"
     ]
    }
   ],
   "source": [
    "conn = sqlite3.connect('project.db')\n",
    "\n",
    "query = \"SELECT * FROM city limit 5;\"\n",
    "\n",
    "df = pd.read_sql_query(query, conn)\n",
    "\n",
    "print(df)\n",
    "\n",
    "conn.close()"
   ]
  },
  {
   "cell_type": "code",
   "execution_count": 14,
   "metadata": {},
   "outputs": [
    {
     "name": "stdout",
     "output_type": "stream",
     "text": [
      "                                                  Name  LanguageCount\n",
      "0    United States                                 ...             12\n",
      "1    Russian Federation                            ...             12\n",
      "2    India                                         ...             12\n",
      "3    China                                         ...             12\n",
      "4    Canada                                        ...             12\n",
      "..                                                 ...            ...\n",
      "228  Cuba                                          ...              1\n",
      "229  Cayman Islands                                ...              1\n",
      "230  Bosnia and Herzegovina                        ...              1\n",
      "231  Bermuda                                       ...              1\n",
      "232  Anguilla                                      ...              1\n",
      "\n",
      "[233 rows x 2 columns]\n"
     ]
    }
   ],
   "source": [
    "# Connect to the SQLite database\n",
    "conn = sqlite3.connect('project.db')\n",
    "\n",
    "# Write the SQL query\n",
    "query = \"SELECT country.Name AS Name, COUNT(countrylanguage.Language) AS LanguageCount FROM country, countrylanguage WHERE country.Code = countrylanguage.CountryCode GROUP BY country.Name ORDER BY LanguageCount Desc;\"\n",
    "\n",
    "# Execute the query and load the data into a DataFrame\n",
    "df = pd.read_sql_query(query, conn)\n",
    "\n",
    "# Display the DataFrame\n",
    "print(df)\n",
    "\n",
    "# Close the connection\n",
    "conn.close()"
   ]
  }
 ],
 "metadata": {
  "kernelspec": {
   "display_name": ".venv",
   "language": "python",
   "name": "python3"
  },
  "language_info": {
   "codemirror_mode": {
    "name": "ipython",
    "version": 3
   },
   "file_extension": ".py",
   "mimetype": "text/x-python",
   "name": "python",
   "nbconvert_exporter": "python",
   "pygments_lexer": "ipython3",
   "version": "3.12.5"
  }
 },
 "nbformat": 4,
 "nbformat_minor": 2
}
