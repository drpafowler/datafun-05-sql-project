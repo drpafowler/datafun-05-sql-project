{
 "cells": [
  {
   "cell_type": "code",
   "execution_count": 1,
   "metadata": {},
   "outputs": [
    {
     "name": "stdout",
     "output_type": "stream",
     "text": [
      "city\n",
      "countrylanguage\n",
      "country\n"
     ]
    }
   ],
   "source": [
    "import sqlite3\n",
    "import pandas as pd\n",
    "\n",
    "# Connect to the SQLite database\n",
    "conn = sqlite3.connect('project.db')\n",
    "\n",
    "# Write the SQL query to list all tables\n",
    "query = \"SELECT name FROM sqlite_master WHERE type='table';\"\n",
    "\n",
    "# Execute the query and fetch the results\n",
    "cursor = conn.cursor()\n",
    "cursor.execute(query)\n",
    "tables = cursor.fetchall()\n",
    "\n",
    "# Print the list of tables\n",
    "for table in tables:\n",
    "    print(table[0])\n",
    "\n",
    "# Close the connection\n",
    "conn.close()"
   ]
  },
  {
   "cell_type": "code",
   "execution_count": 5,
   "metadata": {},
   "outputs": [
    {
     "name": "stdout",
     "output_type": "stream",
     "text": [
      "                                  name countrycode              district  \\\n",
      "0  Kabul                                       AFG  Kabol                  \n",
      "1  Qandahar                                    AFG  Qandahar               \n",
      "2  Herat                                       AFG  Herat                  \n",
      "3  Mazar-e-Sharif                              AFG  Balkh                  \n",
      "4  Amsterdam                                   NLD  Noord-Holland          \n",
      "\n",
      "   population  \n",
      "0     1780000  \n",
      "1      237500  \n",
      "2      186800  \n",
      "3      127800  \n",
      "4      731200  \n"
     ]
    }
   ],
   "source": [
    "conn = sqlite3.connect('project.db')\n",
    "\n",
    "query = \"SELECT * FROM city limit 5;\"\n",
    "\n",
    "df = pd.read_sql_query(query, conn)\n",
    "\n",
    "print(df)\n",
    "\n",
    "conn.close()"
   ]
  },
  {
   "cell_type": "code",
   "execution_count": 8,
   "metadata": {},
   "outputs": [
    {
     "name": "stdout",
     "output_type": "stream",
     "text": [
      "  code                                               name  \\\n",
      "0  ABW  Aruba                                         ...   \n",
      "1  AFG  Afghanistan                                   ...   \n",
      "2  AGO  Angola                                        ...   \n",
      "3  AIA  Anguilla                                      ...   \n",
      "4  ALB  Albania                                       ...   \n",
      "\n",
      "                                           continent  \\\n",
      "0  North America                                 ...   \n",
      "1  Asia                                          ...   \n",
      "2  Africa                                        ...   \n",
      "3  North America                                 ...   \n",
      "4  Europe                                        ...   \n",
      "\n",
      "                       region  surfacearea  indepyear  population  \\\n",
      "0  Caribbean                         193.0        NaN      103000   \n",
      "1  Southern and Central Asia      652090.0     1919.0    22720000   \n",
      "2  Central Africa                1246700.0     1975.0    12878000   \n",
      "3  Caribbean                          96.0        NaN        8000   \n",
      "4  Southern Europe                 28748.0     1912.0     3401200   \n",
      "\n",
      "   lifeexpectancy     gnp  gnpold  \\\n",
      "0            78.4   828.0   793.0   \n",
      "1            45.9  5976.0     NaN   \n",
      "2            38.3  6648.0  7984.0   \n",
      "3            76.1    63.2     NaN   \n",
      "4            71.6  3205.0  2500.0   \n",
      "\n",
      "                                       localname  \\\n",
      "0  Aruba                                           \n",
      "1  Afganistan/Afqanestan                           \n",
      "2  Angola                                          \n",
      "3  Anguilla                                        \n",
      "4  Shqipëria                                       \n",
      "\n",
      "                                  governmentform  \\\n",
      "0  Nonmetropolitan Territory of The Netherlands    \n",
      "1  Islamic Emirate                                 \n",
      "2  Republic                                        \n",
      "3  Dependent Territory of the UK                   \n",
      "4  Republic                                        \n",
      "\n",
      "                                         headofstate  capital code2  \n",
      "0  Beatrix                                       ...    129.0    AW  \n",
      "1  Mohammad Omar                                 ...      1.0    AF  \n",
      "2  José Eduardo dos Santos                       ...     56.0    AO  \n",
      "3  Elisabeth II                                  ...     62.0    AI  \n",
      "4  Rexhep Mejdani                                ...     34.0    AL  \n"
     ]
    }
   ],
   "source": [
    "# Connect to the SQLite database\n",
    "conn = sqlite3.connect('project.db')\n",
    "\n",
    "# Write the SQL query\n",
    "query = \"SELECT * FROM country limit 5\"\n",
    "\n",
    "# Execute the query and load the data into a DataFrame\n",
    "df = pd.read_sql_query(query, conn)\n",
    "\n",
    "# Display the DataFrame\n",
    "print(df)\n",
    "\n",
    "# Close the connection\n",
    "conn.close()"
   ]
  }
 ],
 "metadata": {
  "kernelspec": {
   "display_name": ".venv",
   "language": "python",
   "name": "python3"
  },
  "language_info": {
   "codemirror_mode": {
    "name": "ipython",
    "version": 3
   },
   "file_extension": ".py",
   "mimetype": "text/x-python",
   "name": "python",
   "nbconvert_exporter": "python",
   "pygments_lexer": "ipython3",
   "version": "3.12.5"
  }
 },
 "nbformat": 4,
 "nbformat_minor": 2
}
