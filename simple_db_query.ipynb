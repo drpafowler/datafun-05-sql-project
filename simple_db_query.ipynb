{
 "cells": [
  {
   "cell_type": "markdown",
   "metadata": {},
   "source": [
    "# Connect to the database and list the tables"
   ]
  },
  {
   "cell_type": "code",
   "execution_count": 3,
   "metadata": {},
   "outputs": [
    {
     "name": "stdout",
     "output_type": "stream",
     "text": [
      "city\n",
      "countrylanguage\n",
      "country\n"
     ]
    }
   ],
   "source": [
    "import sqlite3\n",
    "import pandas as pd\n",
    "\n",
    "# Connect to the SQLite database\n",
    "conn = sqlite3.connect('project.db')\n",
    "\n",
    "#  SQL query to list all tables\n",
    "query = \"SELECT name FROM sqlite_master WHERE type='table';\"\n",
    "\n",
    "# Execute the query and fetch the results\n",
    "cursor = conn.cursor()\n",
    "cursor.execute(query)\n",
    "tables = cursor.fetchall()\n",
    "\n",
    "# Print the list of tables\n",
    "for table in tables:\n",
    "    print(table[0])\n",
    "\n",
    "# Close the connection\n",
    "conn.close()"
   ]
  },
  {
   "cell_type": "markdown",
   "metadata": {},
   "source": [
    "# List the column names in each table"
   ]
  },
  {
   "cell_type": "code",
   "execution_count": 4,
   "metadata": {},
   "outputs": [
    {
     "name": "stdout",
     "output_type": "stream",
     "text": [
      "Table: city\n",
      " - name\n",
      " - countrycode\n",
      " - district\n",
      " - population\n",
      "\n",
      "Table: countrylanguage\n",
      " - countrycode\n",
      " - language\n",
      " - isofficial\n",
      " - percentage\n",
      "\n",
      "Table: country\n",
      " - code\n",
      " - name\n",
      " - continent\n",
      " - region\n",
      " - surfacearea\n",
      " - indepyear\n",
      " - population\n",
      " - lifeexpectancy\n",
      " - gnp\n",
      " - gnpold\n",
      " - localname\n",
      " - governmentform\n",
      " - headofstate\n",
      " - capital\n",
      " - code2\n",
      "\n"
     ]
    }
   ],
   "source": [
    "# Connect to the SQLite database\n",
    "conn = sqlite3.connect('project.db')\n",
    "cursor = conn.cursor()\n",
    "\n",
    "# Retrieve the list of tables\n",
    "cursor.execute(\"SELECT name FROM sqlite_master WHERE type='table';\")\n",
    "tables = cursor.fetchall()\n",
    "\n",
    "# For each table, retrieve the column names\n",
    "for table in tables:\n",
    "    table_name = table[0]\n",
    "    cursor.execute(f\"PRAGMA table_info({table_name});\")\n",
    "    columns = cursor.fetchall()\n",
    "    print(f\"Table: {table_name}\")\n",
    "    for column in columns:\n",
    "        print(f\" - {column[1]}\")\n",
    "    print()\n",
    "\n",
    "# Close the connection\n",
    "conn.close()"
   ]
  },
  {
   "cell_type": "markdown",
   "metadata": {},
   "source": [
    "# List 5 cities from the city table"
   ]
  },
  {
   "cell_type": "code",
   "execution_count": 5,
   "metadata": {},
   "outputs": [
    {
     "name": "stdout",
     "output_type": "stream",
     "text": [
      "                                  name countrycode              district  \\\n",
      "0  Kabul                                       AFG  Kabol                  \n",
      "1  Qandahar                                    AFG  Qandahar               \n",
      "2  Herat                                       AFG  Herat                  \n",
      "3  Mazar-e-Sharif                              AFG  Balkh                  \n",
      "4  Amsterdam                                   NLD  Noord-Holland          \n",
      "\n",
      "   population  \n",
      "0     1780000  \n",
      "1      237500  \n",
      "2      186800  \n",
      "3      127800  \n",
      "4      731200  \n"
     ]
    }
   ],
   "source": [
    "conn = sqlite3.connect('project.db')\n",
    "\n",
    "query = \"SELECT * FROM city limit 5;\"\n",
    "\n",
    "df = pd.read_sql_query(query, conn)\n",
    "\n",
    "print(df)\n",
    "\n",
    "conn.close()"
   ]
  },
  {
   "cell_type": "markdown",
   "metadata": {},
   "source": [
    "# List the countries in descending order by the number of languages"
   ]
  },
  {
   "cell_type": "code",
   "execution_count": 6,
   "metadata": {},
   "outputs": [
    {
     "name": "stdout",
     "output_type": "stream",
     "text": [
      "                                                  Name  LanguageCount\n",
      "0    United States                                 ...             12\n",
      "1    Russian Federation                            ...             12\n",
      "2    India                                         ...             12\n",
      "3    China                                         ...             12\n",
      "4    Canada                                        ...             12\n",
      "..                                                 ...            ...\n",
      "228  Cuba                                          ...              1\n",
      "229  Cayman Islands                                ...              1\n",
      "230  Bosnia and Herzegovina                        ...              1\n",
      "231  Bermuda                                       ...              1\n",
      "232  Anguilla                                      ...              1\n",
      "\n",
      "[233 rows x 2 columns]\n"
     ]
    }
   ],
   "source": [
    "# Connect to the SQLite database\n",
    "conn = sqlite3.connect('project.db')\n",
    "\n",
    "#  SQL query \n",
    "query = \"SELECT country.Name AS Name, COUNT(countrylanguage.Language) AS LanguageCount FROM country, countrylanguage WHERE country.Code = countrylanguage.CountryCode GROUP BY country.Name ORDER BY LanguageCount Desc;\"\n",
    "\n",
    "# Execute the query and load the data into a DataFrame\n",
    "df = pd.read_sql_query(query, conn)\n",
    "\n",
    "# Display the DataFrame\n",
    "print(df)\n",
    "\n",
    "# Close the connection\n",
    "conn.close()"
   ]
  },
  {
   "cell_type": "markdown",
   "metadata": {},
   "source": [
    "# List the number of cities in the USA"
   ]
  },
  {
   "cell_type": "code",
   "execution_count": 7,
   "metadata": {},
   "outputs": [
    {
     "name": "stdout",
     "output_type": "stream",
     "text": [
      "   number_of_cities\n",
      "0               274\n"
     ]
    }
   ],
   "source": [
    "# Connect to the SQLite database\n",
    "conn = sqlite3.connect('project.db')\n",
    "\n",
    "#  SQL query to find the number of cities in the USA\n",
    "query = \" SELECT COUNT(*) AS number_of_cities FROM city JOIN country ON country.code = city.countryCode WHERE country.code = 'USA';\"\n",
    "# Execute the query and load the data into a DataFrame\n",
    "df = pd.read_sql_query(query, conn)\n",
    "\n",
    "# Print the number of cities in the USA\n",
    "print(df)\n",
    "\n",
    "# Close the connection\n",
    "conn.close()"
   ]
  },
  {
   "cell_type": "markdown",
   "metadata": {},
   "source": [
    "# What country has the highest life expectancy?"
   ]
  },
  {
   "cell_type": "code",
   "execution_count": 8,
   "metadata": {},
   "outputs": [
    {
     "name": "stdout",
     "output_type": "stream",
     "text": [
      "                                                name  lifeexpectancy\n",
      "0  Andorra                                       ...            83.5\n"
     ]
    }
   ],
   "source": [
    "# Connect to the SQLite database\n",
    "conn = sqlite3.connect('project.db')\n",
    "\n",
    "#  SQL query \n",
    "query = \"SELECT NAME,lifeExpectancy FROM country ORDER BY lifeExpectancy DESC LIMIT 1 ;\"\n",
    "\n",
    "# Execute the query and load the data into a DataFrame\n",
    "df = pd.read_sql_query(query, conn)\n",
    "\n",
    "# Display the DataFrame\n",
    "print(df)\n",
    "\n",
    "# Close the connection\n",
    "conn.close()"
   ]
  },
  {
   "cell_type": "markdown",
   "metadata": {},
   "source": [
    "# What country has the lowest life expectancy?"
   ]
  },
  {
   "cell_type": "code",
   "execution_count": 4,
   "metadata": {},
   "outputs": [
    {
     "name": "stdout",
     "output_type": "stream",
     "text": [
      "                                                name  lifeexpectancy\n",
      "0  Zambia                                        ...            37.2\n"
     ]
    }
   ],
   "source": [
    "# Connect to the SQLite database\n",
    "conn = sqlite3.connect('project.db')\n",
    "\n",
    "#  SQL query \n",
    "query = \"SELECT NAME,lifeExpectancy FROM country WHERE lifeExpectancy IS NOT NULL ORDER BY lifeExpectancy ASC LIMIT 1 ;\"\n",
    "\n",
    "# Execute the query and load the data into a DataFrame\n",
    "df = pd.read_sql_query(query, conn)\n",
    "\n",
    "# Display the DataFrame\n",
    "print(df)\n",
    "\n",
    "# Close the connection\n",
    "conn.close()"
   ]
  },
  {
   "cell_type": "markdown",
   "metadata": {},
   "source": [
    "# Add the country Wakanda to the database and then check Wakanda's population"
   ]
  },
  {
   "cell_type": "code",
   "execution_count": 17,
   "metadata": {},
   "outputs": [],
   "source": [
    "# Connect to the SQLite database\n",
    "conn = sqlite3.connect('project.db')\n",
    "\n",
    "#  SQL query to add the country Wakanda to the continent Africa\n",
    "query = \"\"\"\n",
    "INSERT INTO country (code, name, continent, region, population, lifeExpectancy, capital)\n",
    "VALUES ('WAK', 'Wakanda', 'Africa', 'Sub-Saharan Africa', 1000000, 75.0, NULL);\n",
    "\"\"\"\n",
    "\n",
    "# Execute the query\n",
    "conn.execute(query)\n",
    "\n",
    "# Commit the transaction\n",
    "conn.commit()\n",
    "\n",
    "# Close the connection\n",
    "conn.close()"
   ]
  },
  {
   "cell_type": "code",
   "execution_count": 19,
   "metadata": {},
   "outputs": [
    {
     "name": "stdout",
     "output_type": "stream",
     "text": [
      "   population\n",
      "0     1000000\n"
     ]
    }
   ],
   "source": [
    "# Connect to the SQLite database\n",
    "conn = sqlite3.connect('project.db')\n",
    "\n",
    "# The SQL query to find the population of Wakanda\n",
    "query = \"\"\"\n",
    "SELECT population\n",
    "FROM country\n",
    "WHERE name = 'Wakanda';\n",
    "\"\"\"\n",
    "\n",
    "# Execute the query and load the data into a DataFrame\n",
    "df = pd.read_sql_query(query, conn)\n",
    "\n",
    "# Print the result\n",
    "print(df)\n",
    "\n",
    "# Close the connection\n",
    "conn.close()"
   ]
  },
  {
   "cell_type": "markdown",
   "metadata": {},
   "source": [
    "# Update Wakanda's life expectancy"
   ]
  },
  {
   "cell_type": "code",
   "execution_count": 20,
   "metadata": {},
   "outputs": [],
   "source": [
    "# Connect to the SQLite database\n",
    "conn = sqlite3.connect('project.db')\n",
    "\n",
    "#  SQL query to update Wakanda's life expectancy\n",
    "query = \"\"\"\n",
    "UPDATE country\n",
    "SET lifeExpectancy = 80.0\n",
    "WHERE name = 'Wakanda';\n",
    "\"\"\"\n",
    "\n",
    "# Execute the query\n",
    "conn.execute(query)\n",
    "\n",
    "# Commit the transaction\n",
    "conn.commit()\n",
    "\n",
    "# Close the connection\n",
    "conn.close()"
   ]
  },
  {
   "cell_type": "markdown",
   "metadata": {},
   "source": [
    "# Check that the life expectancy has changed by querying the database"
   ]
  },
  {
   "cell_type": "code",
   "execution_count": 21,
   "metadata": {},
   "outputs": [
    {
     "name": "stdout",
     "output_type": "stream",
     "text": [
      "   lifeexpectancy\n",
      "0            80.0\n"
     ]
    }
   ],
   "source": [
    "# Connect to the SQLite database\n",
    "conn = sqlite3.connect('project.db')\n",
    "\n",
    "#  SQL query to find the life expectancy of Wakanda\n",
    "query = \"\"\"\n",
    "SELECT lifeExpectancy\n",
    "FROM country\n",
    "WHERE name = 'Wakanda';\n",
    "\"\"\"\n",
    "\n",
    "# Execute the query and load the data into a DataFrame\n",
    "df = pd.read_sql_query(query, conn)\n",
    "\n",
    "# Print the result\n",
    "print(df)\n",
    "\n",
    "# Close the connection\n",
    "conn.close()"
   ]
  },
  {
   "cell_type": "code",
   "execution_count": null,
   "metadata": {},
   "outputs": [],
   "source": [
    "print(\"All errors are Philip's fault!\")"
   ]
  }
 ],
 "metadata": {
  "kernelspec": {
   "display_name": ".venv",
   "language": "python",
   "name": "python3"
  },
  "language_info": {
   "codemirror_mode": {
    "name": "ipython",
    "version": 3
   },
   "file_extension": ".py",
   "mimetype": "text/x-python",
   "name": "python",
   "nbconvert_exporter": "python",
   "pygments_lexer": "ipython3",
   "version": "3.12.5"
  }
 },
 "nbformat": 4,
 "nbformat_minor": 2
}
